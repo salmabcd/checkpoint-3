{
 "cells": [
  {
   "cell_type": "code",
   "execution_count": 3,
   "id": "fc475e5e",
   "metadata": {},
   "outputs": [
    {
     "name": "stdout",
     "output_type": "stream",
     "text": [
      "36\n"
     ]
    }
   ],
   "source": [
    "#question 1\n",
    "a_list = [2, 3, 6]\n",
    "product = 1\n",
    "for item in a_list:\n",
    "    product = product * item\n",
    "#multiply each element\n",
    "\n",
    "print(product)"
   ]
  },
  {
   "cell_type": "code",
   "execution_count": 30,
   "id": "0cd425cb",
   "metadata": {},
   "outputs": [
    {
     "name": "stdout",
     "output_type": "stream",
     "text": [
      "[(1, 2), (2, 1), (2, 3), (2, 5), (4, 4)]\n"
     ]
    }
   ],
   "source": [
    "#question 2\n",
    "from operator import itemgetter\n",
    "a_list= [(2, 5), (1, 2), (4, 4), (2, 3), (2, 1)]\n",
    "a_list.sort(key=itemgetter(1))\n",
    "#trier la liste en ordre croissant\n",
    "print(l)"
   ]
  },
  {
   "cell_type": "code",
   "execution_count": 9,
   "id": "98ac908d",
   "metadata": {},
   "outputs": [
    {
     "name": "stdout",
     "output_type": "stream",
     "text": [
      "Counter({'a': 400, 'b': 400, 'd': 400, 'c': 300})\n"
     ]
    }
   ],
   "source": [
    "#question 3\n",
    "from collections import Counter\n",
    "#counter utiliser pour additioner les valeurs dans un dictionnaire(from Google)\n",
    "d1 = {'a': 100, 'b': 200, 'c':300}\n",
    "d2 = {'a': 300, 'b': 200, 'd':400}\n",
    "d= Counter(d1)+Counter(d2)\n",
    "print(d)"
   ]
  },
  {
   "cell_type": "code",
   "execution_count": 29,
   "id": "5ac7e08d",
   "metadata": {},
   "outputs": [
    {
     "name": "stdout",
     "output_type": "stream",
     "text": [
      "enter un nombre4\n",
      "{1: 1, 2: 4, 3: 9, 4: 16}\n"
     ]
    }
   ],
   "source": [
    "#question 4\n",
    "le_carré={}\n",
    "n=int(input('enter un nombre'))\n",
    "#users will input a number\n",
    "for i in range(1,n+1):\n",
    "#i in range\n",
    "    le_carré[i]=i*i\n",
    "#create the dictionnary\n",
    "print (le_carré)\n",
    "#print the dictionary"
   ]
  },
  {
   "cell_type": "code",
   "execution_count": 31,
   "id": "0e93972f",
   "metadata": {},
   "outputs": [
    {
     "name": "stdout",
     "output_type": "stream",
     "text": [
      "[('item3', '24.5'), ('item2', '15.10'), ('item1', '12.20')]\n"
     ]
    }
   ],
   "source": [
    "#question 5\n",
    "a_list= [('item1', '12.20'), ('item2', '15.10'), ('item3', '24.5')]\n",
    "a_list.sort(key=itemgetter(1), reverse=True)\n",
    "print(a_list)"
   ]
  },
  {
   "cell_type": "code",
   "execution_count": null,
   "id": "643c3a34",
   "metadata": {},
   "outputs": [],
   "source": []
  }
 ],
 "metadata": {
  "kernelspec": {
   "display_name": "Python 3",
   "language": "python",
   "name": "python3"
  },
  "language_info": {
   "codemirror_mode": {
    "name": "ipython",
    "version": 3
   },
   "file_extension": ".py",
   "mimetype": "text/x-python",
   "name": "python",
   "nbconvert_exporter": "python",
   "pygments_lexer": "ipython3",
   "version": "3.8.8"
  }
 },
 "nbformat": 4,
 "nbformat_minor": 5
}
